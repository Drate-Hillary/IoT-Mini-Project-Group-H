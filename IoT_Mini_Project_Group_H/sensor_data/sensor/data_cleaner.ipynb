{
 "cells": [
  {
   "cell_type": "code",
   "execution_count": 17,
   "id": "3b2f4e73",
   "metadata": {},
   "outputs": [],
   "source": [
    "import pandas as pd\n",
    "import numpy as np\n",
    "from datetime import datetime\n",
    "\n",
    "input_file='thingspeak_historical_data.csv'\n",
    "output_file='cleaned_sensor_data.csv'\n"
   ]
  },
  {
   "cell_type": "code",
   "execution_count": 18,
   "id": "60a1a15f",
   "metadata": {},
   "outputs": [
    {
     "name": "stdout",
     "output_type": "stream",
     "text": [
      "Original data: 5482 rows\n"
     ]
    }
   ],
   "source": [
    "# Read CSV\n",
    "df = pd.read_csv(input_file)\n",
    "print(f\"Original data: {len(df)} rows\")"
   ]
  },
  {
   "cell_type": "code",
   "execution_count": 19,
   "id": "1e7830dd",
   "metadata": {},
   "outputs": [],
   "source": [
    "# Remove duplicates based on entry_id\n",
    "df = df.drop_duplicates(subset=['entry_id'])"
   ]
  },
  {
   "cell_type": "code",
   "execution_count": 20,
   "id": "d2a166c9",
   "metadata": {},
   "outputs": [],
   "source": [
    "# Remove rows with all sensor values as 0 or null\n",
    "df = df[~((df['battery_voltage'] == 0) & (df['humidity'] == 0) & \n",
    "          (df['temperature'] == 0) & (df['motion_counts'] == 0))]\n"
   ]
  },
  {
   "cell_type": "code",
   "execution_count": 21,
   "id": "fef1a6e9",
   "metadata": {},
   "outputs": [],
   "source": [
    "# Clean numeric columns - replace invalid values with NaN then forward fill\n",
    "numeric_cols = ['battery_voltage', 'humidity', 'motion_counts', 'temperature']\n",
    "for col in numeric_cols:\n",
    "    df[col] = pd.to_numeric(df[col], errors='coerce')\n",
    "    \n",
    "    # Set realistic bounds\n",
    "    if col == 'humidity':\n",
    "        df[col] = df[col].clip(0, 100)\n",
    "    elif col == 'temperature':\n",
    "        df[col] = df[col].clip(-40, 80)\n",
    "    elif col == 'battery_voltage':\n",
    "        df[col] = df[col].clip(0, 5)\n",
    "    elif col == 'motion_counts':\n",
    "        df[col] = df[col].clip(0, None)"
   ]
  },
  {
   "cell_type": "code",
   "execution_count": 22,
   "id": "5f120cf5",
   "metadata": {},
   "outputs": [
    {
     "name": "stderr",
     "output_type": "stream",
     "text": [
      "C:\\Users\\Hillary\\AppData\\Local\\Temp\\ipykernel_20308\\305770900.py:2: FutureWarning: DataFrame.fillna with 'method' is deprecated and will raise in a future version. Use obj.ffill() or obj.bfill() instead.\n",
      "  df[numeric_cols] = df[numeric_cols].fillna(method='ffill')\n"
     ]
    }
   ],
   "source": [
    "# Forward fill missing values\n",
    "df[numeric_cols] = df[numeric_cols].fillna(method='ffill')\n",
    "\n",
    "# Sort by entry_id\n",
    "df = df.sort_values('entry_id').reset_index(drop=True)"
   ]
  },
  {
   "cell_type": "code",
   "execution_count": 23,
   "id": "87541d8f",
   "metadata": {},
   "outputs": [
    {
     "name": "stdout",
     "output_type": "stream",
     "text": [
      "Cleaned data: 5471 rows saved to cleaned_sensor_data.csv\n"
     ]
    }
   ],
   "source": [
    "# Save cleaned data\n",
    "df.to_csv(output_file, index=False)\n",
    "print(f\"Cleaned data: {len(df)} rows saved to {output_file}\")"
   ]
  },
  {
   "cell_type": "code",
   "execution_count": 24,
   "id": "6bcc55f7",
   "metadata": {},
   "outputs": [
    {
     "name": "stdout",
     "output_type": "stream",
     "text": [
      "   entry_id             timestamp  battery_voltage  humidity  motion_counts  \\\n",
      "0         1  2025-09-22T15:21:48Z            3.084      66.1          15172   \n",
      "1         2  2025-09-22T15:51:49Z            3.086      65.9          15172   \n",
      "2         3  2025-09-23T06:42:21Z            3.084      64.3          15782   \n",
      "3         4  2025-09-23T06:48:59Z            3.085      64.0          15789   \n",
      "4         5  2025-09-23T06:51:32Z            3.084      64.1          15794   \n",
      "\n",
      "   temperature  \n",
      "0        25.71  \n",
      "1        25.79  \n",
      "2        26.75  \n",
      "3        26.77  \n",
      "4        26.75  \n"
     ]
    }
   ],
   "source": [
    "print(df.head())"
   ]
  }
 ],
 "metadata": {
  "kernelspec": {
   "display_name": "venv",
   "language": "python",
   "name": "python3"
  },
  "language_info": {
   "codemirror_mode": {
    "name": "ipython",
    "version": 3
   },
   "file_extension": ".py",
   "mimetype": "text/x-python",
   "name": "python",
   "nbconvert_exporter": "python",
   "pygments_lexer": "ipython3",
   "version": "3.13.7"
  }
 },
 "nbformat": 4,
 "nbformat_minor": 5
}
